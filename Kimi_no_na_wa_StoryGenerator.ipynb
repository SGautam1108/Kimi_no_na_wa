{
  "cells": [
    {
      "cell_type": "code",
      "execution_count": null,
      "metadata": {
        "id": "QrPrrNkq3hqK"
      },
      "outputs": [],
      "source": [
        "API_KEY = \"\" # Enter Story3 API Key"
      ]
    },
    {
      "cell_type": "code",
      "execution_count": null,
      "metadata": {
        "colab": {
          "base_uri": "https://localhost:8080/"
        },
        "id": "kVRmZawV3y2N",
        "outputId": "6b7aa660-38b1-4bef-acce-4445914f7767"
      },
      "outputs": [],
      "source": [
        "#0.0.353 was last known working version of langchain\n",
        "!pip install langchain"
      ]
    },
    {
      "cell_type": "code",
      "execution_count": null,
      "metadata": {
        "colab": {
          "base_uri": "https://localhost:8080/"
        },
        "id": "9CUCJPNsFk3C",
        "outputId": "284d03f2-1387-4e42-d7d3-1bb95bf6623f"
      },
      "outputs": [],
      "source": [
        "!pip install -U --quiet langchain-google-genai pillow"
      ]
    },
    {
      "cell_type": "code",
      "execution_count": null,
      "metadata": {
        "id": "iGMUcA5O4lxQ"
      },
      "outputs": [],
      "source": [
        "from langchain.prompts import PromptTemplate\n",
        "from langchain.llms import GooglePalm\n",
        "from langchain_google_genai import ChatGoogleGenerativeAI\n",
        "import google.generativeai\n",
        "import os"
      ]
    },
    {
      "cell_type": "code",
      "execution_count": null,
      "metadata": {
        "id": "OFrZZ3V5Ae9v"
      },
      "outputs": [],
      "source": [
        "google_api_key = \"\" # enter google cloud API Key"
      ]
    },
    {
      "cell_type": "code",
      "execution_count": null,
      "metadata": {
        "id": "0ksugdhgF4QL"
      },
      "outputs": [],
      "source": [
        "llm = ChatGoogleGenerativeAI(google_api_key=google_api_key,model=\"gemini-pro\",convert_system_message_to_human=True)"
      ]
    },
    {
      "cell_type": "code",
      "execution_count": null,
      "metadata": {
        "id": "ADtsGda0H9va"
      },
      "outputs": [],
      "source": [
        "from langchain.schema.messages import HumanMessage, SystemMessage\n",
        "from langchain.memory import ConversationSummaryBufferMemory,ConversationSummaryMemory, ConversationBufferWindowMemory,ConversationBufferMemory\n",
        "\n",
        "from langchain.chains import LLMChain\n",
        "from langchain.prompts import (\n",
        "    ChatPromptTemplate,\n",
        "    HumanMessagePromptTemplate,\n",
        "    MessagesPlaceholder,\n",
        "    SystemMessagePromptTemplate,\n",
        ")\n",
        "import random\n",
        "from langchain.schema import BaseMemory\n",
        "from pydantic import BaseModel\n",
        "from typing import Any, Dict, List, Union\n",
        "from langchain.memory.chat_memory import BaseChatMemory\n",
        "from langchain_core.messages import BaseMessage, get_buffer_string\n",
        "from bs4 import BeautifulSoup\n",
        "import requests\n"
      ]
    },
    {
      "cell_type": "code",
      "execution_count": null,
      "metadata": {
        "id": "Pv_m4bRJUKVH"
      },
      "outputs": [],
      "source": [
        "class story3Model:\n",
        " def __init__(self, para, title, sub_models):\n",
        "   self.para = para\n",
        "   self.title = title\n",
        "   self.sub_models = sub_models # Array of story3Model\n",
        "   self.hashId = \"\""
      ]
    },
    {
      "cell_type": "code",
      "execution_count": null,
      "metadata": {
        "id": "YLi5b3GiWAYU"
      },
      "outputs": [],
      "source": [
        "characterNames = [\n",
        "    \"Alistair Winter\", \"Beatrix Stone\", \"Caspian Morrows\", \"Delilah Starling\", \"Ezekiel Storm\",\n",
        "    \"Felicity Shadows\", \"Gideon Ember\", \"Hermione Nightshade\", \"Ignatius Frost\", \"Jasmine Moonbeam\",\n",
        "    \"Kendrick Thorne\", \"Lilith Silver\", \"Morpheus Gale\", \"Nerissa Hallow\", \"Oberon Dusk\",\n",
        "    \"Persephone Maelstrom\", \"Quintus North\", \"Rowena Dreamweaver\", \"Soren Whisper\", \"Thalia Wraith\",\n",
        "    \"Ulysses Quill\", \"Vespera Haze\", \"Wolfgang Mist\", \"Xanthe Evergreen\", \"Yorick Vale\",\n",
        "    \"Zephyrine Starfall\", \"Alaric Blaze\", \"Bellatrix Frostbite\", \"Cedric Nightwind\", \"Desdemona Moonglow\",\n",
        "    \"Evander Starlight\", \"Griselda Shadowend\", \"Horatio Gale\", \"Isolde Stormwatcher\", \"Jareth Moonshadow\",\n",
        "    \"Katarina Thornheart\", \"Lucius Embervein\", \"Morgana Fae\", \"Narcissa Whitethorn\", \"Orion Darktide\",\n",
        "    \"Pandora Nightwhisper\", \"Quentin Starweaver\", \"Ravenna Shadowflame\", \"Sebastian Windrider\", \"Titania Moondancer\",\n",
        "    \"Ursa Frostwhisper\", \"Vladimir Nightfall\", \"Wilhelmina Mistwalker\", \"Xavier Evernight\", \"Yvette Starshroud\",\n",
        "    \"Zephyr Moonraven\", \"Ariadne Stormheart\", \"Balthazar Darkveil\", \"Calliope Frostfury\", \"Demetrius Shadowmend\",\n",
        "    \"Evangeline Starborn\", \"Fenris Galedeep\", \"Guinevere Moonsong\", \"Hyperion Thundershadow\", \"Isadora Starshard\",\n",
        "    \"Jericho Emberwind\", \"Kassandra Nightveil\", \"Lysander Frostward\", \"Morgause Shadowglen\", \"Nikolai Starfury\",\n",
        "    \"Ophelia Moonwhisper\", \"Perseus Galeheart\", \"Quintessa Shadowfen\", \"Raphael Starstorm\", \"Seraphina Frostglow\",\n",
        "    \"Thaddeus Emberfall\", \"Undine Moondew\", \"Vladislava Nightbreeze\", \"Wolfram Starthorn\", \"Xerxes Frostshadow\",\n",
        "    \"Ysabeau Moonray\", \"Zephyrus Shadowvein\", \"Aurelia Starwind\", \"Bran Frostbane\", \"Circe Nightgale\",\n",
        "    \"Dorian Embermyst\", \"Elysia Starwhisper\", \"Frey Shadowbrook\", \"Gawain Frostvein\", \"Hecate Moonfrost\",\n",
        "    \"Icarus Starflame\", \"Juno Shadowfen\", \"Kael Emberveil\", \"Luna Starfrost\", \"Mordred Shadowstar\",\n",
        "    \"Nyx Frostshadow\", \"Orpheus Moonveil\", \"Psyche Starbrook\", \"Quillan Emberfrost\", \"Rhiannon Nightstar\",\n",
        "    \"Stellan Frostwhisper\", \"Thora Moonflame\", \"Ulric Starshadow\", \"Vivienne Froststar\", \"Weylyn Shadowmoon\",\n",
        "    \"Xanthus Embernight\", \"Yara Starveil\", \"Zephyra Frostmoon\"\n",
        "]\n",
        "\n",
        "def generateCharacterNames():\n",
        "  random.seed(random.random())\n",
        "  resultCharacters = random.choices(characterNames, k = 5)\n",
        "  return \", \".join(resultCharacters)"
      ]
    },
    {
      "cell_type": "code",
      "execution_count": null,
      "metadata": {
        "id": "SDrMvDyH70f0"
      },
      "outputs": [],
      "source": [
        "genreList = [\"Martial Arts and Musical\", \"Sci-Fi and Western\", \"Horror and Romance\", \"Fantasy and Crime\", \"Comedy and War\", \"Animation and Thriller\", \"Historical and Mystery\", \"Adventure and Sports\", \"Drama and Documentary\", \"Family and Superhero\"]\n",
        "genreList.extend([\"Mystery and Romance\", \"Horror and Comedy\", \"Sci-Fi and Fantasy\", \"Historical and Adventure\", \"Thriller and Music\", \"Animation and Crime\", \"Drama and War\", \"Family and Sports\", \"Western and Superhero\", \"Documentary and Satire\"])\n",
        "singleGenresList = [\"Action\", \"Adventure\", \"Comedy\", \"Crime and mystery\", \"Death game\", \"Fantasy\", \"Historical\", \"Horror\", \"Magical realism\", \"Mystery\", \"Paranoid fiction\", \"Philosophical\", \"Political\", \"Romance\", \"Saga\", \"Satire\", \"Science fiction\", \"Speculative\", \"Thriller\", \"Urban\", \"Western\", \"Animation\", \"Live-action scripted\", \"Live-action unscripted\", \"Video games\", \"Music\", \"Popular music\", \"Blues\", \"Bluegrass\", \"Ambient\", \"Breakbeat\", \"Downtempo\", \"Drum and bass\", \"Electro\", \"Eurobeat\", \"Glitch\", \"House\", \"Synthwave\", \"Techno\", \"Trance\", \"UK Garage\", \"Hip hop and rap\", \"Jazz\", \"Break-up music\", \"Heavy metal\", \"Punk rock\", \"Rhythm and blues (R&B) and Soul music\", \"Calypso\", \"Reggae\", \"Classical music\", \"Country music\", \"Electronic music\", \"Experimental music\", \"Folk music\", \"Funk\", \"Gospel music\", \"Instrumental\", \"Metal\", \"New-age music\", \"Opera\", \"Pop music\", \"Rock music\", \"Ska\", \"Soundtrack\", \"World music\"]\n",
        "genreListPage = ['Fantasy', 'Alternate History', \"Children's Story\", 'Comedy', 'Contemporary', 'Dark Fantasy', 'Fairy Tale', 'Fantasy of Manners', 'Heroic', 'High Fantasy', 'Historical', 'Low Fantasy', 'Magical Realism', 'Mythic', 'Superhero', 'Sword and Sorcery', 'Urban', 'Young Adult', 'Horror', 'Body Horror', 'Comedy', 'Creepy Kids', 'Extreme Horror', 'Gothic', 'Hauntings', 'Historical', 'Lovecraftian', 'Man-Made', 'Monsters', 'Mythic', 'Occult', 'Psychic Abilities', 'Psychological', 'Quiet Horror', 'Young Adult', 'Mystery', 'Amateur Sleuth', 'Bumbling Detective', 'Caper', 'Child in Peril', \"Children's Story\", 'Cozy', 'Culinary', 'Disabled', 'Doctor Detective', 'Furry Sleuth', 'Hardboiled', 'Historical', 'Howdunit', 'Legal', 'Locked Room', 'Multicultural and Diverse', 'Paranormal', 'Police Procedural', 'Private Detective', 'Whodunit', 'Woman in Peril', 'Young Adult', 'Romance', 'Billionaires', 'Comedy', 'Contemporary', 'Fantasy Romance', 'Gothic', 'Historical', 'Holidays', 'Inspirational', 'Military', 'Paranormal', 'Regency', 'Romantic Suspense', 'Science Fiction Romance', 'Sports', 'Time Travel', 'Western Romance', 'Young Adult', 'Science Fiction', 'Aliens', 'Alternate History', 'Alternate/Parallel Universe', 'Apocalyptic/Post-Apocalyptic', 'Biopunk', \"Children's Story\", 'Colonization', 'Comedy', 'Cyberpunk', 'Dying Earth', 'Dystopia', 'Galactic Empire', 'Generation Ship', 'Hard Science Fiction', 'Immortality', 'Lost Worlds', 'Military', 'Mind Transfer', 'Mundane Science Fiction', 'Mythic', 'Nanopunk', 'Robots/A.I.', 'Science Fantasy', 'Science Horror', 'Slipstream', 'Soft Science Fiction', 'Space Exploration', 'Space Opera', 'SpyFi', 'Steampunk', 'Time Travel', 'Utopia', 'Young Adult', 'Thriller and Suspense', 'Action', 'Comedy', 'Conspiracy', 'Crime', 'Disaster', 'Espionage', 'Forensic', 'Historical', 'Legal', 'Medical', 'Military', 'Mystery Thriller', 'Paranormal', 'Political', 'Psychological', 'Religious', 'Technothriller', 'Young Adult', 'Western', 'Bounty Hunters', 'Cattle Drive', \"Children's Story\", 'Comedy', 'Gold Rush', 'Gunfighters', 'Land Rush', 'Lawmen', 'Mountain Men', 'Outlaws', 'Prairie Settlement', 'Revenge', 'Wagon Train', 'Young Adult', 'Professional book editing services you can trust']\n",
        "genreList.extend(singleGenresList)\n",
        "genreList.extend(genreListPage)\n",
        "genreList = list(set(genreList))\n",
        "def generateGenre():\n",
        "\n",
        "  random.seed(random.random())\n",
        "  x = random.randint(2, 5)\n",
        "  resultGenre = random.choices(genreListPage, k = x)\n",
        "\n",
        "  return \", \".join(resultGenre)\n"
      ]
    },
    {
      "cell_type": "code",
      "execution_count": null,
      "metadata": {
        "id": "B9cBo4NZmk__"
      },
      "outputs": [],
      "source": [
        "story3ResponseModel = \"{{ 'title': 'Generated Title', 'content': 'Generated Story'}}\""
      ]
    },
    {
      "cell_type": "code",
      "execution_count": null,
      "metadata": {
        "id": "Ao155hkEH9tF"
      },
      "outputs": [],
      "source": [
        "def generateStoryConversation(generatedGenre, generatedCharacterNames):\n",
        "  prompt = ChatPromptTemplate(\n",
        "    messages=[\n",
        "        SystemMessagePromptTemplate.from_template(\n",
        "            \" \\\n",
        "            You are a nice storyteller telling easy to read stories. \\\n",
        "            The language should be understandable to novice or amateur readers. \\\n",
        "            The story should be engaging. \\\n",
        "            Only answer a part of story in 80-150 words with 1000 character limit and do remember the history. \\\n",
        "            Don't use anything sexually explicit. \\\n",
        "            Also generate title as well in each story part. \\\n",
        "            Please use the following genre to create the story:\" + generatedGenre + \"\\\n",
        "            Here are some sample character names that you can use: \" + generatedCharacterNames + \"\\\n",
        "            Return the result as a json in the format: \\\n",
        "            {{  title: 'Generated Title', \\\n",
        "              content: 'Generated Story' \\\n",
        "            }}\\\n",
        "            You must only return JSON  \\\n",
        "            \"\n",
        "        ),\n",
        "        # The `variable_name` here is what must align with memory\n",
        "        MessagesPlaceholder(variable_name=\"story_history\"),\n",
        "        HumanMessagePromptTemplate.from_template(\"{question}\"),\n",
        "    ]\n",
        "  )\n",
        "  memory = ConversationBufferMemory(memory_key=\"story_history\", return_messages=True)\n",
        "  # memory = MyCustomMemory()\n",
        "\n",
        "  conversation = LLMChain(llm=llm, prompt=prompt, verbose=True, memory = memory)\n",
        "\n",
        "  return conversation\n"
      ]
    },
    {
      "cell_type": "code",
      "execution_count": null,
      "metadata": {
        "id": "-FriaAv0oVjW"
      },
      "outputs": [],
      "source": [
        "import re\n",
        "import json"
      ]
    },
    {
      "cell_type": "code",
      "execution_count": null,
      "metadata": {
        "id": "67kdWCjIky2A"
      },
      "outputs": [],
      "source": [
        "def json_parser(text: str) -> list[dict]:\n",
        "   \"\"\"\n",
        "   Parses JSON objects from a string using a regular expression.\n",
        "\n",
        "   Args:\n",
        "       text: The string containing JSON objects.\n",
        "\n",
        "   Returns:\n",
        "       A list of parsed JSON objects as dictionaries.\n",
        "   \"\"\"\n",
        "\n",
        "   json_objects = []\n",
        "   regex = r\"{[^}]*}\"  # Matches any sequence of characters except } within {}\n",
        "   for match in re.finditer(regex, text):\n",
        "       try:\n",
        "           json_objects.append(json.loads(match.group(0)))\n",
        "       except json.JSONDecodeError as error:\n",
        "           print(f\"Failed to parse JSON: {error}\")\n",
        "   return json_objects"
      ]
    },
    {
      "cell_type": "code",
      "execution_count": null,
      "metadata": {
        "id": "peZKgptbp1SW"
      },
      "outputs": [],
      "source": [
        "def getParaTitleFromLLM(responseFromLLM):\n",
        "  result = responseFromLLM.get(\"text\")\n",
        "  jsonResult = json_parser(result)\n",
        "  print(jsonResult)\n",
        "  jsonPara = jsonResult[0].get(\"content\")\n",
        "  jsonTitle = jsonResult[0].get(\"title\")\n",
        "  return [jsonTitle, jsonPara]"
      ]
    },
    {
      "cell_type": "code",
      "execution_count": null,
      "metadata": {
        "id": "k7MxQAg0UuO3"
      },
      "outputs": [],
      "source": [
        "def recursiveStoryGenerator(depth, reqdDepth, storyTillNow, conversation, isATwist=False, titleNotAllowed = []):\n",
        "  conversation.memory.chat_memory.clear()\n",
        "  question = \"\"\n",
        "  titleNotAllowedStr = \"\"\n",
        "  if(len(titleNotAllowed)>0):\n",
        "    titleNotAllowedStr = \"Please don't continue the story with following title: \"\n",
        "    titleNotAllowedStr += \",\".join(titleNotAllowed)\n",
        "    titleNotAllowedStr += \". \"\n",
        "\n",
        "  if(depth == 0):\n",
        "    question = \"write the story now. \" + titleNotAllowedStr +  \"End the story at a cliffhanger in about 80-150 words with 1000 character limit.\"\n",
        "  elif isATwist:\n",
        "    if depth == reqdDepth:\n",
        "      question = \"Add an unexpected twist to the story but keep the plot same. \" + titleNotAllowedStr +  \"continue the story in about 80-150 words with 1000 character limit. End the story here.\"\n",
        "    else:\n",
        "      question = \"Add an unexpected twist to the story but keep the plot same. \" + titleNotAllowedStr +  \" continue the story in about 80-150 words with 1000 character limit. End the story with a cliffhanger.\"\n",
        "  elif depth == reqdDepth:\n",
        "    question = \"continue the story in about 80-150 words with 1000 character limit. \" + titleNotAllowedStr +  \" End the story here.\"\n",
        "  else:\n",
        "    question = \"continue the story in about 80-150 words with 1000 character limit. \" + titleNotAllowedStr +  \" End the story with a cliffhanger.\"\n",
        "  result = conversation({\"question\":\n",
        "                        (\"Story till now is: \"  if len(storyTillNow) > 0 else \"\") + storyTillNow + \"\\n\" + question\n",
        "                         })\n",
        "\n",
        "  iter = 0\n",
        "  while(iter < 3):\n",
        "    try:\n",
        "      [title, para] = getParaTitleFromLLM(result)\n",
        "      if len(para) > 1200:\n",
        "          raise Exception(\"Para length exceeded\")\n",
        "      else:\n",
        "        break\n",
        "    except:\n",
        "        result = conversation({\"question\":\n",
        "                        (\"The story you generated has some issues. Please make sure that it doesn't exceeds 1000 character limit and the format of result must be a valid JSON with format: \\\n",
        "                           {{ title: 'Generated Title', \\\n",
        "                            content: 'Generated Story' \\\n",
        "                            }}\\\n",
        "                          Please only output JSON \\\n",
        "                        \")\n",
        "                         })\n",
        "    iter += 1\n",
        "\n",
        "  if iter == 3:\n",
        "    # Break from here, Return an error\n",
        "    raise Exception(\"Story not correct\")\n",
        "  storyTillNow = storyTillNow + para\n",
        "\n",
        "  childModels = []\n",
        "  twistTitle = []\n",
        "  if depth != reqdDepth:\n",
        "    random.seed(random.random())\n",
        "    x = random.randint(1,3)\n",
        "    if depth == 0:\n",
        "      x = 3 # for first option always have 3 sub stories\n",
        "    for i in range(x):\n",
        "      if i==0:\n",
        "        childModel = recursiveStoryGenerator(depth+1, reqdDepth, storyTillNow, conversation, False, twistTitle)\n",
        "        twistTitle.append(childModel.title)\n",
        "        childModels.append(childModel)\n",
        "      else:\n",
        "        childModel = recursiveStoryGenerator(depth + 1, reqdDepth, storyTillNow, conversation, True, twistTitle)\n",
        "        twistTitle.append(childModel.title)\n",
        "        childModels.append(childModel)\n",
        "        pass\n",
        "  currentModelObj = story3Model(para=para,  title=title, sub_models=childModels)\n",
        "  return currentModelObj\n",
        "\n"
      ]
    },
    {
      "cell_type": "code",
      "execution_count": null,
      "metadata": {
        "id": "qL3kw_mPXEI3"
      },
      "outputs": [],
      "source": [
        "def storyPrinter(model):\n",
        "  print(model.title)\n",
        "  print(model.para)\n",
        "  for subModel in model.sub_models:\n",
        "    storyPrinter(subModel)"
      ]
    },
    {
      "cell_type": "code",
      "execution_count": null,
      "metadata": {
        "id": "HCkwF4wTJFov"
      },
      "outputs": [],
      "source": [
        "# Post story to Story3\n",
        "\n",
        "header_authorization = {\n",
        "    \"x-auth-token\": API_KEY\n",
        "}\n",
        "\n",
        "def postMainStory(request_body):\n",
        "  url = 'https://story3.com/api/v2/stories'\n",
        "\n",
        "  try:\n",
        "    response = requests.post(url, headers = header_authorization, json = request_body)\n",
        "    return response.json().get(\"hashId\")\n",
        "  except requests.exceptions.RequestException as e:\n",
        "    print(f\"Error: {e}\")\n"
      ]
    },
    {
      "cell_type": "code",
      "execution_count": null,
      "metadata": {
        "id": "pqvGCaAB3gql"
      },
      "outputs": [],
      "source": [
        "def postTwistInStory(hashParentId, request_body):\n",
        "  url = 'https://story3.com/api/v2/twists'\n",
        "  request_body[\"hashParentId\"] = hashParentId\n",
        "  try:\n",
        "    response = requests.post(url, json = request_body, headers= header_authorization)\n",
        "    return response.json().get(\"hashId\")\n",
        "  except requests.exceptions.RequestException as e:\n",
        "    print(f\"Error: {e}\")"
      ]
    },
    {
      "cell_type": "code",
      "execution_count": null,
      "metadata": {
        "id": "lTojXrWrdYSo"
      },
      "outputs": [],
      "source": [
        "def getStory(hashId):\n",
        "  url = 'https://story3.com/api/v2/stories/' + hashId\n",
        "  try:\n",
        "    response = requests.get(url, headers= header_authorization)\n",
        "    return response.json()\n",
        "  except requests.exceptions.RequestException as e:\n",
        "    print(f\"Error: {e}\")"
      ]
    },
    {
      "cell_type": "code",
      "execution_count": null,
      "metadata": {
        "id": "zE_yW1eFucNS"
      },
      "outputs": [],
      "source": [
        "def postTwistsForStory(parentStoryObject):\n",
        "  if not parentStoryObject.sub_models:\n",
        "    return\n",
        "\n",
        "  for subModel in parentStoryObject.sub_models:\n",
        "    request_body = {\n",
        "      \"isExtraTwist\": True,\n",
        "      \"title\": subModel.title,\n",
        "      \"body\": subModel.para\n",
        "    }\n",
        "    hashTwist = postTwistInStory(parentStoryObject.hashId, request_body)\n",
        "    subModel.hashId = hashTwist\n",
        "    print(subModel.hashId)\n",
        "    postTwistsForStory(subModel)\n",
        "\n",
        "def postWholeStoryObject(story3Object):\n",
        "  requestBody = {\n",
        "      \"title\": story3Object.title,\n",
        "      \"body\": story3Object.para\n",
        "  }\n",
        "\n",
        "  hashMainStory = postMainStory(requestBody)\n",
        "  story3Object.hashId = hashMainStory\n",
        "  print(story3Object.hashId)\n",
        "  postTwistsForStory(story3Object)\n"
      ]
    },
    {
      "cell_type": "code",
      "execution_count": null,
      "metadata": {
        "id": "MbUwR4LnfhMu"
      },
      "outputs": [],
      "source": [
        "def postPublishStory(storyObject):\n",
        "  url = f'https://story3.com/api/v2/twists/{storyObject.hashId}/publish'\n",
        "\n",
        "  try:\n",
        "    response = requests.post(url, headers = header_authorization)\n",
        "    print(storyObject.hashId, \" : \" , response.json().get(\"status\"))\n",
        "  except requests.exceptions.RequestException as e:\n",
        "    print(f\"Error: {e}\")\n",
        "\n",
        "def publishStory(storyObject):\n",
        "  postPublishStory(storyObject)\n",
        "  if not storyObject.sub_models:\n",
        "    return\n",
        "\n",
        "  for story in storyObject.sub_models:\n",
        "    publishStory(story)"
      ]
    },
    {
      "cell_type": "code",
      "execution_count": null,
      "metadata": {
        "id": "rVzCqG2eFH-k"
      },
      "outputs": [],
      "source": [
        "def postAStory():\n",
        "  try:\n",
        "    generatedCharacterNames = generateCharacterNames()\n",
        "    generatedGenre = generateGenre()\n",
        "    print(generatedGenre)\n",
        "    print(generatedCharacterNames)\n",
        "    conversation : LLMChain = generateStoryConversation(generatedGenre, generatedCharacterNames)\n",
        "    story3Models = recursiveStoryGenerator(0,3,\"\",conversation)\n",
        "\n",
        "  except Exception as e:\n",
        "    print(e)\n",
        "    return # Don't post a story which returned an error\n",
        "  postWholeStoryObject(story3Models)\n",
        "  publishStory(story3Models)"
      ]
    },
    {
      "cell_type": "code",
      "execution_count": null,
      "metadata": {
        "colab": {
          "base_uri": "https://localhost:8080/",
          "height": 1000
        },
        "id": "uSs-5NuQFTRt",
        "outputId": "ad4f2b0b-a503-4c76-f1b9-7fa2d04cc557"
      },
      "outputs": [],
      "source": [
        "postAStory()"
      ]
    }
  ],
  "metadata": {
    "colab": {
      "provenance": []
    },
    "kernelspec": {
      "display_name": "Python 3",
      "name": "python3"
    },
    "language_info": {
      "name": "python"
    }
  },
  "nbformat": 4,
  "nbformat_minor": 0
}
